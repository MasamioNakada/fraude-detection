{
 "cells": [
  {
   "cell_type": "markdown",
   "metadata": {},
   "source": [
    "## Importamos las librerias"
   ]
  },
  {
   "cell_type": "code",
   "execution_count": 11,
   "metadata": {},
   "outputs": [],
   "source": [
    "from wikiframe import Say\n",
    "\n",
    "import pandas as pd\n",
    "import numpy as np\n",
    "import seaborn as sns\n",
    "\n",
    "from sklearn.model_selection import train_test_split\n",
    "\n",
    "from sklearn.pipeline import Pipeline\n",
    "\n",
    "from sklearn.metrics import confusion_matrix, make_scorer, accuracy_score\n",
    "\n",
    "from sklearn.impute import SimpleImputer\n",
    "from sklearn.preprocessing import StandardScaler\n",
    "\n",
    "from mlxtend.classifier import StackingCVClassifier\n",
    "\n",
    "from sklearn.ensemble import RandomForestClassifier\n",
    "from sklearn.ensemble import AdaBoostClassifier\n",
    "from xgboost import XGBClassifier\n",
    "\n",
    "from sklearn.model_selection import RandomizedSearchCV,cross_val_score, KFold\n",
    "\n"
   ]
  },
  {
   "cell_type": "markdown",
   "metadata": {},
   "source": [
    "# Cargamos los datos"
   ]
  },
  {
   "cell_type": "code",
   "execution_count": 12,
   "metadata": {},
   "outputs": [],
   "source": [
    "#Cargamos los datos\n",
    "df = pd.read_csv('data/fraude_tc.csv')"
   ]
  },
  {
   "cell_type": "code",
   "execution_count": 13,
   "metadata": {},
   "outputs": [],
   "source": [
    "#Separamos los datos en variables y objetivo\n",
    "X = df.drop(['fraud'], axis=1)\n",
    "y = df['fraud']"
   ]
  },
  {
   "cell_type": "markdown",
   "metadata": {},
   "source": [
    "## Separación de los datos"
   ]
  },
  {
   "cell_type": "code",
   "execution_count": 14,
   "metadata": {},
   "outputs": [],
   "source": [
    "#Separamos en datos de entrenamiento y datos de validacion (para hacer un maquetado rápido del modelo, para mayor rigurosidad, usaremos una validación cruzada)\n",
    "X_train, X_test, y_train, y_test = train_test_split(X, y, test_size=0.2, random_state=42)"
   ]
  },
  {
   "cell_type": "markdown",
   "metadata": {},
   "source": [
    "## Transformamos los datos"
   ]
  },
  {
   "cell_type": "code",
   "execution_count": 15,
   "metadata": {},
   "outputs": [],
   "source": [
    "from sklearn.preprocessing import MinMaxScaler\n",
    "\n",
    "# Pipeline para el preprocesamiento de los datos, en el EDA se observó que hay sólo columnas numéricas\n",
    "numerical = Pipeline(steps=[\n",
    "    ('imputer', SimpleImputer(strategy='median')),\n",
    "    ('scaler', MinMaxScaler()) #en el EDA se observó outliers en 3 columnas\n",
    "])"
   ]
  },
  {
   "cell_type": "markdown",
   "metadata": {},
   "source": [
    "# Modelo"
   ]
  },
  {
   "cell_type": "code",
   "execution_count": 16,
   "metadata": {},
   "outputs": [],
   "source": [
    "#Eligimos los mejores clasificadores\n",
    "random_forest = RandomForestClassifier()\n",
    "ada_boost = AdaBoostClassifier()\n",
    "xgb = XGBClassifier()"
   ]
  },
  {
   "cell_type": "code",
   "execution_count": 8,
   "metadata": {},
   "outputs": [],
   "source": [
    "#Utilizamos StackCVClassifier para combinar los clasificadores y obtener un mejor resultado ()\n",
    "model = StackingCVClassifier(\n",
    "    classifiers=[random_forest, ada_boost, xgb],\n",
    "    meta_classifier=xgb\n",
    ")\n",
    "\n",
    "#PipeLine para el modelo general\n",
    "pipe = Pipeline(steps=[\n",
    "    ('numerical', numerical),\n",
    "    ('model', model)\n",
    "])"
   ]
  },
  {
   "cell_type": "code",
   "execution_count": 21,
   "metadata": {},
   "outputs": [
    {
     "data": {
      "text/plain": [
       "0.999995"
      ]
     },
     "execution_count": 21,
     "metadata": {},
     "output_type": "execute_result"
    }
   ],
   "source": [
    "#Entrenamos el modelo (maquetacion)\n",
    "pipe.fit(X_train, y_train)\n",
    "pred = pipe.predict(X_test)\n",
    "accuracy_score(y_test, pred)"
   ]
  },
  {
   "cell_type": "code",
   "execution_count": 25,
   "metadata": {},
   "outputs": [
    {
     "name": "stdout",
     "output_type": "stream",
     "text": [
      "[0.999975   0.99999375 0.99999375 0.99999375 0.99999375]\n"
     ]
    }
   ],
   "source": [
    "#Entrenamiento del modelo con crossvalidation y KFolds\n",
    "# En una maquetación anterior se logró 0.999995( 'mejor' ), con crossvalidation se obtiene un 0.999999\n",
    "score = cross_val_score(pipe, X_train, y_train, cv=KFold(n_splits=5,shuffle=True, random_state=42), scoring='accuracy')\n",
    "print(score)"
   ]
  },
  {
   "cell_type": "markdown",
   "metadata": {},
   "source": [
    "## Resultado\n",
    "\n",
    "- Obtuvimos una métrica de entrenamiento de  **0.999975** mediante validacion cruzada (cv = 5)\n",
    "- Finalmente Obtuvimos la métrica con los valores de Test de **0.999995**"
   ]
  },
  {
   "cell_type": "code",
   "execution_count": 26,
   "metadata": {},
   "outputs": [
    {
     "name": "stdout",
     "output_type": "stream",
     "text": [
      " __________ \n",
      "< 0.999975 > \n",
      " ---------- \n",
      "        \\   ^__^ \n",
      "         \\  (oo)\\_______ \n",
      "            (__)\\ good🥇 )\\/\\ \n",
      "                ||----w | \n",
      "                ||     || \n"
     ]
    }
   ],
   "source": [
    "#Metricas de evaluación crossvalidation\n",
    "Say(f'{np.abs(score).min()}').cow_says_good()"
   ]
  },
  {
   "cell_type": "code",
   "execution_count": 38,
   "metadata": {},
   "outputs": [
    {
     "data": {
      "image/png": "[encoded data removed]",
      "text/plain": [
       "<Figure size 432x288 with 2 Axes>"
      ]
     },
     "metadata": {
      "needs_background": "light"
     },
     "output_type": "display_data"
    }
   ],
   "source": [
    "## Predecimos con X_test y obtenemos la matriz de confusión\n",
    "from matplotlib import pyplot as plt\n",
    "\n",
    "\n",
    "y_pred = pipe.predict(X_test)\n",
    "matrx = confusion_matrix(y_test, y_pred)\n",
    "sns.heatmap(matrx, annot=True, fmt='d', cmap='terrain_r')\n",
    "plt.show()"
   ]
  },
  {
   "cell_type": "code",
   "execution_count": 28,
   "metadata": {},
   "outputs": [
    {
     "data": {
      "text/plain": [
       "0.999995"
      ]
     },
     "execution_count": 28,
     "metadata": {},
     "output_type": "execute_result"
    }
   ],
   "source": [
    "accuracy_score(y_test, y_pred)"
   ]
  },
  {
   "cell_type": "markdown",
   "metadata": {},
   "source": [
    "## Guardamos los resultados"
   ]
  },
  {
   "cell_type": "code",
   "execution_count": 31,
   "metadata": {},
   "outputs": [
    {
     "name": "stdout",
     "output_type": "stream",
     "text": [
      " __________________ \n",
      "< Modelo entrenado > \n",
      " ------------------ \n",
      "        \\   ^__^ \n",
      "         \\  (oo)\\_______ \n",
      "            (__)\\ good🐶 )\\/\\ \n",
      "                ||----w | \n",
      "                ||     || \n"
     ]
    }
   ],
   "source": [
    "import joblib\n",
    "path = 'models/model.pkl'\n",
    "joblib.dump(pipe, path)\n",
    "Say('Modelo entrenado').cow_says_good()"
   ]
  },
  {
   "cell_type": "markdown",
   "metadata": {},
   "source": [
    "## --------------"
   ]
  },
  {
   "cell_type": "code",
   "execution_count": 96,
   "metadata": {},
   "outputs": [],
   "source": [
    "\n",
    "grid = RandomizedSearchCV(\n",
    "    pipe,\n",
    "    param_distributions={\n",
    "        'model__randomforestclassifier__n_estimators': np.arange(100,1000,100),\n",
    "        'model__randomforestclassifier__max_depth': np.arange(1,10,1),\n",
    "        'model__randomforestclassifier__max_features': ['sqrt', 'log2', None],\n",
    "        'model__randomforestclassifier__bootstrap': [True, False],\n",
    "\n",
    "        'model__adaboostclassifier__n_estimators': np.arange(100,1000,100),\n",
    "        'model__adaboostclassifier__learning_rate': np.arange(0.1,1,.1),\n",
    "        'model__adaboostclassifier__algorithm': ['SAMME', 'SAMME.R'],\n",
    "\n",
    "        'model__xgboostclassifier__n_estimators': np.arange(100,1000,100),\n",
    "        'model__xgboostclassifier__max_depth': np.arange(1,10,1),\n",
    "        'model__xgboostclassifier__learning_rate': np.arange(0.1,1,0.1),\n",
    "        'model__xgboostclassifier__gamma': np.arange(0,1,0.1),\n",
    "    },\n",
    "    cv=5,\n",
    "    n_iter=5,\n",
    "    scoring='accuracy'\n",
    ")"
   ]
  },
  {
   "cell_type": "code",
   "execution_count": null,
   "metadata": {},
   "outputs": [],
   "source": [
    "for param in grid.get_params().keys():\n",
    "    print(param)    "
   ]
  },
  {
   "cell_type": "code",
   "execution_count": null,
   "metadata": {},
   "outputs": [],
   "source": [
    "grid.fit(X, y)\n",
    "print('Score: ',np.abs(grid.best_score_))"
   ]
  }
 ],
 "metadata": {
  "kernelspec": {
   "display_name": "Python 3.10.4 64-bit",
   "language": "python",
   "name": "python3"
  },
  "language_info": {
   "codemirror_mode": {
    "name": "ipython",
    "version": 3
   },
   "file_extension": ".py",
   "mimetype": "text/x-python",
   "name": "python",
   "nbconvert_exporter": "python",
   "pygments_lexer": "ipython3",
   "version": "3.10.4"
  },
  "orig_nbformat": 4,
  "vscode": {
   "interpreter": {
    "hash": "369f2c481f4da34e4445cda3fffd2e751bd1c4d706f27375911949ba6bb62e1c"
   }
  }
 },
 "nbformat": 4,
 "nbformat_minor": 2
}
